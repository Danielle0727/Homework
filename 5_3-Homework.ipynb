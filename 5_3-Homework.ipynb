{
 "cells": [
  {
   "cell_type": "code",
   "execution_count": 10,
   "metadata": {},
   "outputs": [
    {
     "name": "stdout",
     "output_type": "stream",
     "text": [
      "7\n",
      "[25, 'Danielle', 'Snyder', 63.25, 'Maryland', ['Lasagna', 'Tacos', 'Breakfast Bowls'], 'Air Force']\n"
     ]
    }
   ],
   "source": [
    "## 2. Create a list of at least 5 elements of mixed data types\n",
    "    #replace a part of it with something else\n",
    "    #append or insert several more items to the list\n",
    "    #find and print the length of the list\n",
    "    #slice a sub-section of the 1st list, and save it to a different 2nd list\n",
    "    #print the 2nd list\n",
    "    #extend your original list with the 2nd list sliced above\n",
    "    #Create a new list called \"simList\" containing at least 5 elements of the same data type, either string, integer, float, or Boolean.\n",
    "    #sort \"simList\", and print the list\n",
    "    #copy the \"simList\" list to another 3rd list\n",
    "    #add the 2nd and 3rd lists together into a 4th list\n",
    "\n",
    "L = [36, \"Danielle\", 63.25, [\"Lasagna\", \"Tacos\", \"Breakfast Bowls\"]]\n",
    "L[0] = 25\n",
    "L.append(\"Air Force\")\n",
    "L.insert(2, \"Snyder\")\n",
    "L.insert(4, \"Maryland\")\n",
    "print(len(L))\n",
    "\n",
    "L2 = L[2:5] #slice a sub-section of the 1st list, and save it to a different 2nd list\n",
    "print(L2)\n",
    "L.extend(L2) #extend your original list with the 2nd list sliced above\n",
    "\n",
    "\n",
    "simList = [\"Starfish\", \"Crabs\", \"Shark\", \"Sea Turtle\", \"Mermaid\"]\n",
    "simList.sort()\n",
    "print(simList)\n",
    "\n",
    "simList2 = simList\n",
    "simList3 = simList\n",
    "simList4 = simList2 + simList3\n",
    "\n",
    "\n",
    "\n"
   ]
  },
  {
   "cell_type": "code",
   "execution_count": 1,
   "metadata": {},
   "outputs": [
    {
     "name": "stdout",
     "output_type": "stream",
     "text": [
      "Shark\n",
      "['Crabs', 'Crabs', 'Crabs', 'Mermaid', 'Mermaid', 'Mermaid', 'Sea Turtle', 'Sea Turtle', 'Sea Turtle', 'Shark', 'Shark', 'Shark', 'Starfish', 'Starfish', 'Starfish']\n",
      "('Starfish', 'Crabs', 'Shark', 'Sea Turtle')\n",
      "50\n",
      "('Starfish', 'Crabs', 'Shark', 'Sea Turtle', 'Mermaid', 'Starfish', 'Crabs', 'Shark', 'Sea Turtle', 'Mermaid', 'Starfish', 'Crabs', 'Shark', 'Sea Turtle', 'Mermaid', 'Starfish', 'Crabs', 'Shark', 'Sea Turtle')\n"
     ]
    }
   ],
   "source": [
    "## 3. Create a tuple of about 5 elements\n",
    "    #multiply your tuple by 3 and save it to a new 2nd tuple\n",
    "    #access and print the 12th element from the 2nd tuple\n",
    "    #sort the 2nd tuple and print it\n",
    "    #copy 4 specific elements from your 2nd tuple to a new 3nd tuple\n",
    "    #unpack the 3rd tuple into 4 variables and print these variables\n",
    "    #create a 4th tuple with single item 50 and print this tuple\n",
    "    #add the 2nd and 3rd tuple together into a 5th tuple and print the tuple\n",
    "\n",
    "T = (\"Starfish\", \"Crabs\", \"Shark\", \"Sea Turtle\", \"Mermaid\")\n",
    "\n",
    "T2 = T * 3 #T2 is my 2nd tuple.\n",
    "print(T2[12])\n",
    "print(sorted(T2))\n",
    "\n",
    "T3 = (\"Starfish\", \"Crabs\", \"Shark\", \"Sea Turtle\")\n",
    "a, b, c, d = T3 #unpacking tuple.\n",
    "print(T3)\n",
    "\n",
    "T4 = (50)\n",
    "print(T4)\n",
    "\n",
    "T5 = T2 + T3\n",
    "print (T5)\n",
    "\n",
    "\n",
    "\n",
    "\n",
    "\n",
    "\n",
    "\n"
   ]
  },
  {
   "cell_type": "code",
   "execution_count": 7,
   "metadata": {},
   "outputs": [
    {
     "name": "stdout",
     "output_type": "stream",
     "text": [
      "{'lime', 'lemon', 'cherries', 'blueberries', 'raspberries', 'grapefruit'}\n"
     ]
    }
   ],
   "source": [
    "## 4. Create a set of about 3 elements\n",
    "    #add a list of fruits to the above set and print the result\n",
    "    #add a car element to your set\n",
    "    #create a 2nd set with a few odd items\n",
    "    #save the union of 1st set and 2nd set to a 3rd set\n",
    "    #pop an element from the 2nd set, and print the remainder of the set\n",
    "    #clear the 1st set and print the result\n",
    "    #discard an element, and remove another element from the 3rd set\n",
    "    #print the remainder of the 3rd set\n",
    "\n",
    "S = {\"blueberries\", \"raspberries\", \"cherries\"}\n",
    "S.add(\"grapefruit\")\n",
    "S.add(\"lemon\")\n",
    "S.add(\"lime\")\n",
    "\n",
    "print(S)\n",
    "\n",
    "S.add(\"car\")\n",
    "\n",
    "S2 = {\"boat\", \"plane\", \"tractor\"}\n",
    "\n",
    "S3 = S.union(S2)\n",
    "\n",
    "S2.pop()\n",
    "print(S2)\n",
    "\n",
    "S.clear()\n",
    "\n",
    "S3.remove(\"grapefruit\")\n",
    "S3.discard(\"car\")\n",
    "print(S3)\n",
    "print(S)\n"
   ]
  },
  {
   "cell_type": "code",
   "execution_count": 8,
   "metadata": {},
   "outputs": [
    {
     "name": "stdout",
     "output_type": "stream",
     "text": [
      "Danielle\n"
     ]
    }
   ],
   "source": [
    "## 5. Create a dictionary with at least 5 values of different data types\n",
    "    #print out 1 value\n",
    "    #replace any one value in your dictionary with your name\n",
    "    #add your favorite color to the dictionary\n",
    "    #add a list, tuple or set to your dictionary\n",
    "    #print a list of the dictionary keys\n",
    "    #print a list of the dictionary values\n",
    "    #copy your 1st dictionary into a 2nd dictionary\n",
    "    #pop an item from the 2nd dictionary, and print the dictionary\n",
    "    #remove all the elements from the 2nd dictionary and print the result\n",
    "\n",
    "D = {\"age\": 36, \"lastname\": \"Danielle\", \"height\": 63.25, \"state\": \"MD\", \"education\": \"MS\"}\n",
    "\n",
    "X = D.get(\"name\")   \n",
    "print(X)\n",
    "\n",
    "D.pop(\"lastname\")\n",
    "D.update({\"firstname\": \"Danielle\"})\n",
    "D.update({\"favorite color\": \"green\"})\n",
    "D[\"favoritefood\"] = \"lasagna\"\n",
    "\n",
    "Key = D.keys()\n",
    "print(Key)\n",
    "Value = D.values()\n",
    "print(Value)\n",
    "\n",
    "D2 = D\n",
    "\n",
    "D2.pop(\"age\")\n",
    "print(D2)\n",
    "\n",
    "D2.clear()\n",
    "print(D2)\n",
    "\n",
    "\n",
    "\n",
    "\n"
   ]
  }
 ],
 "metadata": {
  "kernelspec": {
   "display_name": "Python 3.10.8 64-bit",
   "language": "python",
   "name": "python3"
  },
  "language_info": {
   "codemirror_mode": {
    "name": "ipython",
    "version": 3
   },
   "file_extension": ".py",
   "mimetype": "text/x-python",
   "name": "python",
   "nbconvert_exporter": "python",
   "pygments_lexer": "ipython3",
   "version": "3.10.8"
  },
  "orig_nbformat": 4,
  "vscode": {
   "interpreter": {
    "hash": "26de051ba29f2982a8de78e945f0abaf191376122a1563185a90213a26c5da77"
   }
  }
 },
 "nbformat": 4,
 "nbformat_minor": 2
}
