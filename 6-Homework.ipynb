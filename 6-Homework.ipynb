{
 "cells": [
  {
   "cell_type": "code",
   "execution_count": 11,
   "metadata": {},
   "outputs": [
    {
     "name": "stdout",
     "output_type": "stream",
     "text": [
      "Renting a car is more affordable\n"
     ]
    }
   ],
   "source": [
    "# 1. Create an if statement: \n",
    "    # if 'age' is greater than or equal to 25, \n",
    "        # print \"Renting a car is more affordable\", \n",
    "    # however if 'age' is less than 25, \n",
    "        # print \"Renting a car is very expensive.\"\n",
    "\n",
    "age = 36\n",
    "\n",
    "if age > 25:\n",
    "    print(\"Renting a car is more affordable\")\n",
    "elif age < 25:\n",
    "    print (\"Renting a car is very expensive\")"
   ]
  },
  {
   "cell_type": "code",
   "execution_count": 12,
   "metadata": {},
   "outputs": [
    {
     "name": "stdout",
     "output_type": "stream",
     "text": [
      "Renting a car is more affordable\n",
      "Renting a car is very expensive\n"
     ]
    }
   ],
   "source": [
    "# 2. Create and chain an if-else statement: \n",
    "    # if 'age' is greater than or equal to 25, \n",
    "        # print \"Renting a car is more affordable.\" \n",
    "    # If 'age' is less than 25 but greater than or equal to 18, \n",
    "        # print \"Renting a car is very expensive.\" \n",
    "    # Finally, if age is less than 18, print \"You cannot legally rent a car.\"\n",
    "\n",
    "age = 36\n",
    "\n",
    "\n",
    "if age > 25:\n",
    "    print(\"Renting a car is more affordable\")\n",
    "    if age < 25 or age >= 18:\n",
    "        print(\"Renting a car is very expensive\")\n",
    "elif age < 18:\n",
    "    print(\"You cannot legally rent a car\")\n"
   ]
  },
  {
   "cell_type": "code",
   "execution_count": 19,
   "metadata": {},
   "outputs": [
    {
     "name": "stdout",
     "output_type": "stream",
     "text": [
      "43\n",
      "e\n",
      "u\n",
      "i\n",
      "o\n",
      "o\n",
      "u\n",
      "o\n",
      "e\n",
      "e\n",
      "a\n",
      "o\n"
     ]
    }
   ],
   "source": [
    "# 3. Loop over the following string to \n",
    "# (1) count all the characters in the string and \n",
    "# (2) print out all the vowels -- \"The quick brown fox jumps over the lazy dog\"\n",
    "\n",
    "quote = \"The quick brown fox jumps over the lazy dog\"\n",
    "\n",
    "print(len(quote))\n",
    "\n",
    "for letter in quote:\n",
    "    if letter in 'aeiou':\n",
    "        print(letter)\n"
   ]
  },
  {
   "cell_type": "code",
   "execution_count": 21,
   "metadata": {},
   "outputs": [
    {
     "name": "stdout",
     "output_type": "stream",
     "text": [
      "burnt sienna trousers\n",
      "burnt sienna blouse\n",
      "burnt sienna bandana\n",
      "burnt sienna cumber band\n",
      "burnt sienna blazer\n",
      "burnt sienna vest\n",
      "burnt sienna french beret\n",
      "burnt sienna scarf\n",
      "burnt sienna stole\n",
      "cerise trousers\n",
      "cerise blouse\n",
      "cerise bandana\n",
      "cerise cumber band\n",
      "cerise blazer\n",
      "cerise vest\n",
      "cerise french beret\n",
      "cerise scarf\n",
      "cerise stole\n",
      "fuchsia trousers\n",
      "fuchsia blouse\n",
      "fuchsia bandana\n",
      "fuchsia cumber band\n",
      "fuchsia blazer\n",
      "fuchsia vest\n",
      "fuchsia french beret\n",
      "fuchsia scarf\n",
      "fuchsia stole\n",
      "Dark Sapphire trousers\n",
      "Dark Sapphire blouse\n",
      "Dark Sapphire bandana\n",
      "Dark Sapphire cumber band\n",
      "Dark Sapphire blazer\n",
      "Dark Sapphire vest\n",
      "Dark Sapphire french beret\n",
      "Dark Sapphire scarf\n",
      "Dark Sapphire stole\n",
      "maple trousers\n",
      "maple blouse\n",
      "maple bandana\n",
      "maple cumber band\n",
      "maple blazer\n",
      "maple vest\n",
      "maple french beret\n",
      "maple scarf\n",
      "maple stole\n",
      "auburn trousers\n",
      "auburn blouse\n",
      "auburn bandana\n",
      "auburn cumber band\n",
      "auburn blazer\n",
      "auburn vest\n",
      "auburn french beret\n",
      "auburn scarf\n",
      "auburn stole\n",
      "aqua trousers\n",
      "aqua blouse\n",
      "aqua bandana\n",
      "aqua cumber band\n",
      "aqua blazer\n",
      "aqua vest\n",
      "aqua french beret\n",
      "aqua scarf\n",
      "aqua stole\n",
      "gunmetal blue trousers\n",
      "gunmetal blue blouse\n",
      "gunmetal blue bandana\n",
      "gunmetal blue cumber band\n",
      "gunmetal blue blazer\n",
      "gunmetal blue vest\n",
      "gunmetal blue french beret\n",
      "gunmetal blue scarf\n",
      "gunmetal blue stole\n"
     ]
    }
   ],
   "source": [
    "# 4. Write a nested loop that prints out every piece of clothing from the couture list, \n",
    "    # in every fashionable color from the panettone set: \n",
    "    # couture = [\"trousers\", \"blouse\", \"bandana\", \"cumber band\", \"blazer\", \"vest\", \"french beret\", \"scarf\", \"stole\"] \n",
    "    # and panettone = {\"cerise\", \"fuchsia\", \"aqua\", \"maple\", \"auburn\", \"burnt sienna\", \"gunmetal blue\", \"Dark Sapphire\"}\n",
    "\n",
    "couture = [\"trousers\", \"blouse\", \"bandana\", \"cumber band\", \"blazer\", \"vest\", \"french beret\", \"scarf\", \"stole\"] \n",
    "panettone = {\"cerise\", \"fuchsia\", \"aqua\", \"maple\", \"auburn\", \"burnt sienna\", \"gunmetal blue\", \"Dark Sapphire\"} \n",
    "\n",
    "for x in panettone:\n",
    "    for y in couture:\n",
    "        print(x, y)"
   ]
  },
  {
   "cell_type": "code",
   "execution_count": 25,
   "metadata": {},
   "outputs": [
    {
     "name": "stdout",
     "output_type": "stream",
     "text": [
      "5050\n"
     ]
    }
   ],
   "source": [
    "# 5. Use range as a loop to calculate the sum of all the numbers from 1 to 100\n",
    "\n",
    "sum = 0 \n",
    "\n",
    "for x in range(1,101):\n",
    "    sum += x\n",
    "print(sum)"
   ]
  },
  {
   "cell_type": "code",
   "execution_count": 38,
   "metadata": {},
   "outputs": [
    {
     "name": "stdout",
     "output_type": "stream",
     "text": [
      "banana\n"
     ]
    }
   ],
   "source": [
    "# 6. Print the second item in this fruits list. \n",
    "    # [\"apple\", \"banana\", \"cherry\"]\n",
    "\n",
    "fruit = [\"apple\", \"banana\", \"cherry\"]\n",
    "\n",
    "print(fruit[1])\n",
    "\n"
   ]
  },
  {
   "cell_type": "code",
   "execution_count": 41,
   "metadata": {},
   "outputs": [
    {
     "name": "stdout",
     "output_type": "stream",
     "text": [
      "kiwi\n",
      "['kiwi', 'banana', 'cherry']\n"
     ]
    }
   ],
   "source": [
    "# 7. Change the value from \"apple\" to \"kiwi\", in the fruits list. \n",
    "    # [\"apple\", \"banana\", \"cherry\"]\n",
    "\n",
    "fruit = [\"apple\", \"banana\", \"cherry\"]\n",
    "\n",
    "if \"apple\" in fruit:\n",
    "    print(\"kiwi\")\n",
    "\n",
    "#or...\n",
    "fruit[0] = \"kiwi\"\n",
    "print(fruit)"
   ]
  },
  {
   "cell_type": "code",
   "execution_count": 42,
   "metadata": {},
   "outputs": [
    {
     "name": "stdout",
     "output_type": "stream",
     "text": [
      "['apple', 'banana', 'cherry', 'orange']\n"
     ]
    }
   ],
   "source": [
    "# 8. Use the append method to add \"orange\" to the fruits list. \n",
    "    # [\"apple\", \"banana\", \"cherry\"]\n",
    "\n",
    "fruit = [\"apple\", \"banana\", \"cherry\"]\n",
    "\n",
    "fruit.append(\"orange\")\n",
    "print(fruit)"
   ]
  },
  {
   "cell_type": "code",
   "execution_count": 43,
   "metadata": {},
   "outputs": [
    {
     "name": "stdout",
     "output_type": "stream",
     "text": [
      "['apple', 'lemon', 'banana', 'cherry']\n"
     ]
    }
   ],
   "source": [
    "# 9. Use the insert method to add \"lemon\" as the second item in the fruits list. \n",
    "    # [\"apple\", \"banana\", \"cherry\"]\n",
    "\n",
    "fruit = [\"apple\", \"banana\", \"cherry\"]\n",
    "\n",
    "fruit.insert(1, \"lemon\")\n",
    "print(fruit)"
   ]
  },
  {
   "cell_type": "code",
   "execution_count": 44,
   "metadata": {},
   "outputs": [
    {
     "name": "stdout",
     "output_type": "stream",
     "text": [
      "['apple', 'cherry']\n"
     ]
    }
   ],
   "source": [
    "# 10. Use the remove method to remove \"banana\" from the fruits list. \n",
    "    # [\"apple\", \"banana\", \"cherry\"]\n",
    "\n",
    "fruit = [\"apple\", \"banana\", \"cherry\"]\n",
    "\n",
    "fruit.remove(\"banana\")\n",
    "print(fruit)"
   ]
  },
  {
   "cell_type": "code",
   "execution_count": 52,
   "metadata": {},
   "outputs": [
    {
     "name": "stdout",
     "output_type": "stream",
     "text": [
      "melon\n",
      "kiwi\n"
     ]
    }
   ],
   "source": [
    "# 11. Use negative indexing to print the 3rd and 2nd to last items in the list. \n",
    "    # [\"apple\", \"banana\", \"cherry\", \"orange\", \"kiwi\", \"melon\", \"mango\"]\n",
    "\n",
    "fruit = [\"apple\", \"banana\", \"cherry\", \"orange\", \"kiwi\", \"melon\", \"mango\"]\n",
    "\n",
    "print(fruit[-2])\n",
    "print(fruit[-3])"
   ]
  },
  {
   "cell_type": "code",
   "execution_count": 58,
   "metadata": {},
   "outputs": [
    {
     "name": "stdout",
     "output_type": "stream",
     "text": [
      "['cherry', 'orange', 'kiwi']\n"
     ]
    }
   ],
   "source": [
    "# 12. Use a range of indexes to print the third, fourth, and fifth item in the list. \n",
    "    # [\"apple\", \"banana\", \"cherry\", \"orange\", \"kiwi\", \"melon\", \"mango\"]\n",
    "\n",
    "fruit = [\"apple\", \"banana\", \"cherry\", \"orange\", \"kiwi\", \"melon\", \"mango\"]\n",
    "print(fruit[2:5])"
   ]
  },
  {
   "cell_type": "code",
   "execution_count": 59,
   "metadata": {},
   "outputs": [
    {
     "name": "stdout",
     "output_type": "stream",
     "text": [
      "7\n"
     ]
    }
   ],
   "source": [
    "# 13. Use the correct syntax to print the number of items in the list. \n",
    "    # [\"apple\", \"banana\", \"cherry\", \"orange\", \"kiwi\", \"melon\", \"mango\"]\n",
    "\n",
    "fruit = [\"apple\", \"banana\", \"cherry\", \"orange\", \"kiwi\", \"melon\", \"mango\"]\n",
    "\n",
    "print(len(fruit))"
   ]
  },
  {
   "cell_type": "code",
   "execution_count": 62,
   "metadata": {},
   "outputs": [
    {
     "name": "stdout",
     "output_type": "stream",
     "text": [
      "['orange', 'melon', 'mango', 'kiwi', 'cherry', 'banana', 'apple']\n"
     ]
    }
   ],
   "source": [
    "\n",
    "# 14. Use the correct syntax to sort this list in reverse order \n",
    "    # [\"apple\", \"banana\", \"cherry\", \"orange\", \"kiwi\", \"melon\", \"mango\"]\n",
    "\n",
    "fruit = [\"apple\", \"banana\", \"cherry\", \"orange\", \"kiwi\", \"melon\", \"mango\"]\n",
    "\n",
    "fruit.sort(reverse=True)\n",
    "print(fruit)"
   ]
  },
  {
   "cell_type": "code",
   "execution_count": 64,
   "metadata": {},
   "outputs": [
    {
     "name": "stdout",
     "output_type": "stream",
     "text": [
      "2022-11-18 20:17:02.292827\n",
      "November\n"
     ]
    }
   ],
   "source": [
    "# 15. Use the DateTime module to get Current Date and Time, and save it to a variable. \n",
    "    # Then extract just the Full month name form that variable.\n",
    "\n",
    "import datetime\n",
    "\n",
    "x = datetime.datetime.now()\n",
    "print(x)\n",
    "\n",
    "print(x.strftime(\"%B\"))"
   ]
  },
  {
   "cell_type": "code",
   "execution_count": 79,
   "metadata": {},
   "outputs": [
    {
     "name": "stdout",
     "output_type": "stream",
     "text": [
      "Hi Danielle! Happy Sunday.\n",
      "Hi Danielle! Happy Sunday.\n"
     ]
    }
   ],
   "source": [
    "# 16. Write a simple function that takes 2 parameters -- a first name and a day name.\n",
    "    # Set a default value for the day name of Sunday.\n",
    "    # Have the function print out a greeting \n",
    "        # Using the parameters, that says something like \"Hi first-name! Happy day-name!\". \n",
    "        # Remember to use the variables in the greeting to replace first-name and day-name.\n",
    "    # Invoke this function with 2 variables.\n",
    "    # Invoke this function with 1 variable only.\n",
    "\n",
    "#2 variables (name, day)\n",
    "def greetings (name, day):\n",
    "    print(\"Hi\", name + \"!\", \"Happy\", day + \".\")\n",
    "\n",
    "greetings(name=\"Danielle\", day=\"Sunday\")\n",
    "\n",
    "#1 variable (nd)\n",
    "def greet (name):\n",
    "    print(\"Hi\", name + \"! Happy Sunday.\")\n",
    "\n",
    "greet(name = \"Danielle\")\n"
   ]
  },
  {
   "cell_type": "code",
   "execution_count": 83,
   "metadata": {},
   "outputs": [
    {
     "name": "stdout",
     "output_type": "stream",
     "text": [
      "(2, 3, 2)\n"
     ]
    }
   ],
   "source": [
    "# 17. Import NumPy, use one of the NumPy methods and create an array with a shape of ... (2, 3, 2). \n",
    "    # You can use the reshape method -- .reshape()\n",
    "\n",
    "import numpy as np\n",
    "\n",
    "array1 = np.array (\n",
    "    [\n",
    "        [[1,2], [3,4], [5,6]],\n",
    "        [[1,2], [3,4], [5,6]]\n",
    "    ]\n",
    ")\n",
    "print(array1.shape)"
   ]
  }
 ],
 "metadata": {
  "kernelspec": {
   "display_name": "Python 3.10.8 64-bit",
   "language": "python",
   "name": "python3"
  },
  "language_info": {
   "codemirror_mode": {
    "name": "ipython",
    "version": 3
   },
   "file_extension": ".py",
   "mimetype": "text/x-python",
   "name": "python",
   "nbconvert_exporter": "python",
   "pygments_lexer": "ipython3",
   "version": "3.10.8"
  },
  "orig_nbformat": 4,
  "vscode": {
   "interpreter": {
    "hash": "26de051ba29f2982a8de78e945f0abaf191376122a1563185a90213a26c5da77"
   }
  }
 },
 "nbformat": 4,
 "nbformat_minor": 2
}
