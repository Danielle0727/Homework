{
 "cells": [
  {
   "cell_type": "code",
   "execution_count": null,
   "id": "46114aed",
   "metadata": {},
   "outputs": [],
   "source": [
    "# <font color=navy>5_2-Homework</font>\n",
    "\n",
    "**1. What is an algorithm?** \n",
    "> * _<font color=blue>A series of steps to solve the problem at hand.</font>_\n",
    "\n",
    "**2. Why is Python considered to be a high-level language?**\n",
    "> * _<font color=blue>It must be processed before it can run and it is an interpreted language.</font>_\n",
    "\n",
    "**3. Is Python considered to be a Natural or a Formal language?**\n",
    "> * _<font color=blue>A Formal language.</font>_\n",
    "\n",
    "**4. Variable names may not start with certain characters - name two.**\n",
    "> * _<font color=blue>Numbers</font>_\n",
    "> * <font color=blue>Special characters, NOT including _ (underscore)</font>_\n",
    "\n",
    "**5. What is a Semantic Error?**\n",
    "> * _<font color=blue>Code is grammatically correct but does NOT make any sense.</font>_\n",
    "\n",
    "**6. What is the #1 rule of coding / debugging?**\n",
    "> * _<font color=red>#1 Rule:</font> <font color=blue>Complexity is the enemy of effeciency.</font>_\n",
    "\n",
    "**7. List 5 Python reserved words.**\n",
    "> * _<font color=blue>None</font>_\n",
    "> * _<font color=blue>as</font>_\n",
    "> * _<font color=blue>class</font>_\n",
    "> * _<font color=blue>del</font>_\n",
    "> * _<font color=blue>except</font>_\n",
    "> * _<font color=blue>form</font>_\n",
    "> * _<font color=blue>import</font>_\n",
    "\n",
    "**8. Add and Name, a web link for any Python coding article, in your markdown cell.**\n",
    "> * _<font color=darkturquise>[Beautifying Jupyter Notebook](https://towardsdatascience.com/enrich-your-jupyter-notebook-with-these-tips-55c8ead25255)_"
   ]
  },
  {
   "cell_type": "code",
   "execution_count": null,
   "id": "0014dde0",
   "metadata": {
    "tags": [
     "parameters"
    ]
   },
   "outputs": [],
   "source": [
    "#Write a multi-line comment with your name, favorite food, and dream job on 3 different lines.\n",
    "#assign 5 different data types to 5 different variables. At least one datatype must be a string.\n",
    "#print the length of your string.\n",
    "#print the the index value of the 4th character in your string.\n",
    "\n",
    "\"\"\"\n",
    "Name: Danielle \n",
    "Favorite food: Lasagna\n",
    "Dream Job: Professional Ice Skater\n",
    "\"\"\"\n",
    "\n",
    "n = \"Danielle\"\n",
    "a = 36 \n",
    "favorite_foods = [\"Lasagna\", \"Tacos\", \"BreakfastBowls\"]\n",
    "Learning = (\"SQL\", \"Python\", \"Jira\")\n",
    "x = {\"name\": \"Danielle\", \"age\": 36}\n",
    "\n",
    "len(n)\n",
    "print(n[4])\n"
   ]
  },
  {
   "cell_type": "code",
   "execution_count": null,
   "id": "5ba61a0e",
   "metadata": {},
   "outputs": [],
   "source": [
    "#create a new variable called savvy, and assign it the string with this phrase \"Learning Data Analytics and Python is Awesome!\"\n",
    "#return a range of characters that slices the above string from the beginning of \"ing\" up to before \"and\"\n",
    "#Replace \"Awesome\" with \"great\" in the string\n",
    "#Test and print the savvy string to see it contains \"Python\"\n",
    "\n",
    "Savvy = \"Learning Data Analytics and Python is Awesome!\"\n",
    "Savvy[5:23]\n",
    "\n",
    "s = Savvy.replace(\"Awesome\", \"great\")\n",
    "print(s)"
   ]
  },
  {
   "cell_type": "code",
   "execution_count": null,
   "id": "52e99a6e",
   "metadata": {},
   "outputs": [],
   "source": [
    "#Create and assign 3 more variables called name, age and length using the multi-variable naming method.\n",
    "#Format a new string called 'miniBio' using variables in curly brackets to complete this phrase... \"Hi my name is (name), I am (tall) and (so) old today.\"\n",
    "#print 'miniBio'\n",
    "#cast and print the age variable to a float.\n",
    "\n",
    "\n",
    "name, age, length = \"Danielle\", str(36), \"five foot three inches\"\n",
    "minibio = {\"Hi my name is \"+ name + \", I am \" + length + \" and \" + age + \" years old today.\"}\n",
    "print(minibio)\n",
    "\n",
    "age = float(36)\n",
    "print(age)\n",
    "\n"
   ]
  }
 ],
 "metadata": {
  "kernelspec": {
   "display_name": "Python 3.10.8 64-bit",
   "language": "python",
   "name": "python3"
  },
  "language_info": {
   "codemirror_mode": {
    "name": "ipython",
    "version": 3
   },
   "file_extension": ".py",
   "mimetype": "text/x-python",
   "name": "python",
   "nbconvert_exporter": "python",
   "pygments_lexer": "ipython3",
   "version": "3.10.8"
  },
  "vscode": {
   "interpreter": {
    "hash": "26de051ba29f2982a8de78e945f0abaf191376122a1563185a90213a26c5da77"
   }
  }
 },
 "nbformat": 4,
 "nbformat_minor": 5
}
